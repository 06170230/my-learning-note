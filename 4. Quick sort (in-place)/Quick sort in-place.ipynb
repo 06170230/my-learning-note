{
 "cells": [
  {
   "cell_type": "markdown",
   "metadata": {},
   "source": [
    "# Quick sort (in-place)"
   ]
  },
  {
   "cell_type": "code",
   "execution_count": 65,
   "metadata": {},
   "outputs": [],
   "source": [
    "def quick_sort(array):\n",
    "    if len(array)>=2:\n",
    "        i=0 #會一直指個比pivot大的值\n",
    "        j=0 #會查看所有array中的值\n",
    "        pivot = array[len(array)-1] #設定最後一個index為pivot\n",
    "        while j != (len(array)-1):\n",
    "            if array[j] >= pivot: #若值大於等於pivot，j就指向下一個index\n",
    "                j+=1\n",
    "            else: #若值小於pivot，array中index i位置的值會跟j位置的值交換，交換完i,j再指向後一個index值\n",
    "                temp_i = array[i]\n",
    "                temp_j = array[j]\n",
    "                array[i] = temp_j\n",
    "                array[j] = temp_i\n",
    "                i+=1\n",
    "                j+=1\n",
    "        temp_i = array[i]\n",
    "        temp_j = array[j]\n",
    "        array[i] = temp_j\n",
    "        array[j] = temp_i\n",
    "        return quick_sort(array[:i]) + [pivot] + quick_sort(array[(i+1):])\n",
    "    return array          "
   ]
  },
  {
   "cell_type": "code",
   "execution_count": 66,
   "metadata": {},
   "outputs": [],
   "source": [
    "#測值 1 \n",
    "array = [9,8,2,5,7,4,3,6] "
   ]
  },
  {
   "cell_type": "code",
   "execution_count": 67,
   "metadata": {
    "scrolled": true
   },
   "outputs": [
    {
     "data": {
      "text/plain": [
       "[2, 3, 4, 5, 6, 7, 8, 9]"
      ]
     },
     "execution_count": 67,
     "metadata": {},
     "output_type": "execute_result"
    }
   ],
   "source": [
    "quick_sort(array)"
   ]
  },
  {
   "cell_type": "code",
   "execution_count": 70,
   "metadata": {},
   "outputs": [],
   "source": [
    "# 測值 2 \n",
    "array = [100,500,8,3,1,2,95,6,4,12,66,44,87,78,20,15,555] "
   ]
  },
  {
   "cell_type": "code",
   "execution_count": 71,
   "metadata": {},
   "outputs": [
    {
     "data": {
      "text/plain": [
       "[1, 2, 3, 4, 6, 8, 12, 15, 20, 44, 66, 78, 87, 95, 100, 500, 555]"
      ]
     },
     "execution_count": 71,
     "metadata": {},
     "output_type": "execute_result"
    }
   ],
   "source": [
    "quick_sort(array)"
   ]
  },
  {
   "cell_type": "markdown",
   "metadata": {},
   "source": [
    "## 出現的錯誤\n",
    "**TypeError: can only concatenate list (not \"int\") to list**\n",
    "* 原因 :\n",
    "    * 出現這樣的錯誤是因為試圖將一個列表與一個非列表類型的值連接，這是不允許的。\n",
    "* 解決方法 :\n",
    "    * 列表連接兩邊必須都為列表（list）\n",
    "    \n",
    "\n",
    "> 參考    \n",
    "> https://blog.csdn.net/TianJiaMei/article/details/67639563\n"
   ]
  },
  {
   "cell_type": "code",
   "execution_count": 61,
   "metadata": {},
   "outputs": [],
   "source": [
    "a = [1,2,3,4,5,43]\n",
    "b =[1.2,3.4,5,6.1,4,2,3,9.00,66,1.222,3.45]"
   ]
  },
  {
   "cell_type": "code",
   "execution_count": 62,
   "metadata": {},
   "outputs": [
    {
     "ename": "TypeError",
     "evalue": "can only concatenate list (not \"float\") to list",
     "output_type": "error",
     "traceback": [
      "\u001b[1;31m---------------------------------------------------------------------------\u001b[0m",
      "\u001b[1;31mTypeError\u001b[0m                                 Traceback (most recent call last)",
      "\u001b[1;32m<ipython-input-62-eba21b81c100>\u001b[0m in \u001b[0;36m<module>\u001b[1;34m\u001b[0m\n\u001b[1;32m----> 1\u001b[1;33m \u001b[0mc\u001b[0m \u001b[1;33m=\u001b[0m \u001b[0ma\u001b[0m \u001b[1;33m+\u001b[0m \u001b[0mb\u001b[0m\u001b[1;33m[\u001b[0m\u001b[1;36m3\u001b[0m\u001b[1;33m]\u001b[0m\u001b[1;33m\u001b[0m\u001b[1;33m\u001b[0m\u001b[0m\n\u001b[0m",
      "\u001b[1;31mTypeError\u001b[0m: can only concatenate list (not \"float\") to list"
     ]
    }
   ],
   "source": [
    "# a為list加上b中的一個值就會出現錯誤\n",
    "c = a + b[3] "
   ]
  },
  {
   "cell_type": "code",
   "execution_count": 63,
   "metadata": {},
   "outputs": [],
   "source": [
    "#解決方法，把b的值也變成lisy，再做連結\n",
    "c = a + [b[3]] "
   ]
  },
  {
   "cell_type": "code",
   "execution_count": 64,
   "metadata": {},
   "outputs": [
    {
     "data": {
      "text/plain": [
       "[1, 2, 3, 4, 5, 43, 6.1]"
      ]
     },
     "execution_count": 64,
     "metadata": {},
     "output_type": "execute_result"
    }
   ],
   "source": [
    "c"
   ]
  }
 ],
 "metadata": {
  "kernelspec": {
   "display_name": "Python 3",
   "language": "python",
   "name": "python3"
  },
  "language_info": {
   "codemirror_mode": {
    "name": "ipython",
    "version": 3
   },
   "file_extension": ".py",
   "mimetype": "text/x-python",
   "name": "python",
   "nbconvert_exporter": "python",
   "pygments_lexer": "ipython3",
   "version": "3.7.3"
  }
 },
 "nbformat": 4,
 "nbformat_minor": 2
}
