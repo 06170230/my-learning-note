{
 "cells": [
  {
   "cell_type": "markdown",
   "metadata": {},
   "source": [
    "# Quick sort\n",
    "* Quick sort是一種把大問題分成小問題的「使用分治法（Divide and conquer）」策略，概念為:\n",
    "    * (1) 在數列中隨機指定一個pivot\n",
    "    * (2) 將數列中的數值，小於pivot的放到pivot左邊，大於pivot的放到pivot右邊\n",
    "    * (3) 分完後，左右邊都成為新的一個數列再重複(1)步驟，直到每個數值都成為過pivot"
   ]
  },
  {
   "cell_type": "code",
   "execution_count": 6,
   "metadata": {},
   "outputs": [],
   "source": [
    "def quick_sort(array):\n",
    "    if len(array)>=2: \n",
    "        pivot = array[len(array)//2] #指定數列中央的數值為基準點\n",
    "        mid = [] #創三個新的數列\n",
    "        left = []\n",
    "        right = []\n",
    "        for i in array: #將原數列中的每個數值分到新的數列中\n",
    "            if i == pivot:\n",
    "                mid.append(i)\n",
    "            elif i < pivot:\n",
    "                left.append(i)\n",
    "            else:\n",
    "                right.append(i)\n",
    "        return quick_sort(left) + mid + quick_sort(right) #左右邊的數列從新再操作一次上面的步驟直到無法再區分\n",
    "    return array\n",
    "            "
   ]
  },
  {
   "cell_type": "code",
   "execution_count": 7,
   "metadata": {},
   "outputs": [],
   "source": [
    "#測試\n",
    "array = [7,5,8,9,5,1,4,3,5,44,66,88,11,0,2,4]"
   ]
  },
  {
   "cell_type": "code",
   "execution_count": 9,
   "metadata": {},
   "outputs": [
    {
     "data": {
      "text/plain": [
       "[0, 1, 2, 3, 4, 4, 5, 5, 5, 7, 8, 9, 11, 44, 66, 88]"
      ]
     },
     "execution_count": 9,
     "metadata": {},
     "output_type": "execute_result"
    }
   ],
   "source": [
    "#結果\n",
    "quick_sort(array)"
   ]
  }
 ],
 "metadata": {
  "kernelspec": {
   "display_name": "Python 3",
   "language": "python",
   "name": "python3"
  },
  "language_info": {
   "codemirror_mode": {
    "name": "ipython",
    "version": 3
   },
   "file_extension": ".py",
   "mimetype": "text/x-python",
   "name": "python",
   "nbconvert_exporter": "python",
   "pygments_lexer": "ipython3",
   "version": "3.7.3"
  }
 },
 "nbformat": 4,
 "nbformat_minor": 2
}
