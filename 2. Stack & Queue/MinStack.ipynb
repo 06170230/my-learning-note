{
 "cells": [
  {
   "cell_type": "code",
   "execution_count": 237,
   "metadata": {},
   "outputs": [],
   "source": [
    "class Node:\n",
    "    def __init__(self,val,next = None):\n",
    "        self.val = val\n",
    "        self.min = val\n",
    "        self.next = next\n",
    "        \n",
    "class MinStack:\n",
    "\n",
    "    def __init__(self,top=None):\n",
    "        \"\"\"\n",
    "        initialize your data structure here.\n",
    "        \"\"\"\n",
    "        self.topN=top\n",
    "        \n",
    "    def push(self, x: int) -> None:\n",
    "        if self.topN is  None:\n",
    "            self.topN = Node(x,None)\n",
    "        else:\n",
    "            min_now = self.topN.min \n",
    "            self.topN = Node(x,self.topN) \n",
    "            if min_now < x:\n",
    "                self.topN.min = min_now   ## 等號前後位置交換會有差別\n",
    "            #問題: 如果我打\n",
    "            #self.top = Node(x,self.top) \n",
    "            #if min_now > x:\n",
    "                #self.topN.min = x\n",
    "            ##結果跑出來的值會是top不是最小值\n",
    "            ##原因:1.if min_now < x不成立 self.topN.min就會是新的top的值\n",
    "            ##    2.min_now = self.topN.min不會影響真正的self.top.min，因為是min_now被寫入原本top.min的值\n",
    "            ##    3.如果是用我上述所打的方法，後面還要接else: self.topN.min = min_now 才會改變\n",
    "    def pop(self):\n",
    "        if self.topN.val is None:\n",
    "            return\n",
    "        else:\n",
    "            self.topN = self.topN.next\n",
    "            \n",
    "    def top(self):\n",
    "        return self.topN.val\n",
    "## 在此階段發現self.top若跟此定義名字重複(top)會無法使用，因此改成self.topN\n",
    "                \n",
    "    def getMin(self):\n",
    "        return self.topN.min        "
   ]
  },
  {
   "cell_type": "code",
   "execution_count": 238,
   "metadata": {},
   "outputs": [],
   "source": [
    "# 以下測試\n",
    "stack = MinStack()"
   ]
  },
  {
   "cell_type": "code",
   "execution_count": 239,
   "metadata": {},
   "outputs": [],
   "source": [
    "stack.push(1)"
   ]
  },
  {
   "cell_type": "code",
   "execution_count": 240,
   "metadata": {},
   "outputs": [],
   "source": [
    "stack.push(-3)"
   ]
  },
  {
   "cell_type": "code",
   "execution_count": 241,
   "metadata": {},
   "outputs": [],
   "source": [
    "stack.push(-2)"
   ]
  },
  {
   "cell_type": "code",
   "execution_count": 242,
   "metadata": {},
   "outputs": [
    {
     "data": {
      "text/plain": [
       "-3"
      ]
     },
     "execution_count": 242,
     "metadata": {},
     "output_type": "execute_result"
    }
   ],
   "source": [
    "stack.getMin()"
   ]
  },
  {
   "cell_type": "code",
   "execution_count": 243,
   "metadata": {},
   "outputs": [],
   "source": [
    "stack.pop()"
   ]
  },
  {
   "cell_type": "code",
   "execution_count": 244,
   "metadata": {},
   "outputs": [
    {
     "data": {
      "text/plain": [
       "-3"
      ]
     },
     "execution_count": 244,
     "metadata": {},
     "output_type": "execute_result"
    }
   ],
   "source": [
    "stack.top()"
   ]
  },
  {
   "cell_type": "code",
   "execution_count": null,
   "metadata": {},
   "outputs": [],
   "source": []
  }
 ],
 "metadata": {
  "kernelspec": {
   "display_name": "Python 3",
   "language": "python",
   "name": "python3"
  },
  "language_info": {
   "codemirror_mode": {
    "name": "ipython",
    "version": 3
   },
   "file_extension": ".py",
   "mimetype": "text/x-python",
   "name": "python",
   "nbconvert_exporter": "python",
   "pygments_lexer": "ipython3",
   "version": "3.7.3"
  }
 },
 "nbformat": 4,
 "nbformat_minor": 2
}
