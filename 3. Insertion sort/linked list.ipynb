{
 "cells": [
  {
   "cell_type": "code",
   "execution_count": 2,
   "metadata": {},
   "outputs": [],
   "source": [
    "class Node(object):\n",
    "    def __init__(self, data, next = None):\n",
    "        self.data = data\n",
    "        self.next = next\n",
    "\n",
    "\n",
    "class MyLinkedList(object):\n",
    "\n",
    "    def __init__(self, head = None):\n",
    "        self.head = head\n",
    "        \n",
    "    def get(self, index):\n",
    "        cur = 0\n",
    "        cur_node = self.head\n",
    "        nexxt_node = cur_node.next\n",
    "        while cur_node != None:\n",
    "            if index == cur :\n",
    "                return cur_node.data\n",
    "            cur += 1 \n",
    "            cur_node = nexxt_node\n",
    "        return -1\n",
    "        \n",
    "    def addAtHead(self,data):\n",
    "        temp = self.head\n",
    "        node = Node(data,temp)\n",
    "        self.head = node\n",
    "        return\n",
    "\n",
    "    def addAtTail(self,data):\n",
    "        node = Node(data)\n",
    "        if self.head is None:\n",
    "            self.head = node\n",
    "            return\n",
    "        curr_node = self.head\n",
    "        while curr_node.next is not None:\n",
    "            curr_node = curr_node.next\n",
    "        curr_node.next = node\n",
    "        return\n",
    "    \n",
    "    def addAtIndex(self, index, data):\n",
    "        if index<=0:\n",
    "            self.addAtHead(data)\n",
    "            return \n",
    "        cc = 1\n",
    "        cur_node = self.head\n",
    "        n_node = cur_node.next \n",
    "        while n_node != None:\n",
    "            if index == cc:\n",
    "                temp = n_node\n",
    "                n_node.data = data\n",
    "                n_node.next = temp\n",
    "                return \n",
    "            cc += 1 \n",
    "            cur_node = n_node\n",
    "        if index == cc:\n",
    "            n_node.data = data\n",
    "            return \n",
    "        else:\n",
    "            return\n",
    "    def deleteAtIndex(self, index) :\n",
    "        if index<0:\n",
    "            return\n",
    "        cc = 0\n",
    "        cur_node = self.head\n",
    "        n_node = cur_node.next \n",
    "        while cur_node != None:\n",
    "            if index == cc:\n",
    "                cur_node.data = n_node.data\n",
    "                cur_node.next = n_node.next\n",
    "                return\n",
    "            cc += 1 \n",
    "            cur_node = n_node\n",
    "        return"
   ]
  },
  {
   "cell_type": "code",
   "execution_count": null,
   "metadata": {},
   "outputs": [],
   "source": [
    "# Your MyLinkedList object will be instantiated and called as such:\n",
    "obj = MyLinkedList()\n",
    "\n",
    "obj.addAtHead(1)\n",
    "obj.addAtTail(5)\n",
    "param_1 = obj.get(1)\n",
    "obj.addAtIndex(1,6)\n",
    "obj.deleteAtIndex(1)"
   ]
  },
  {
   "cell_type": "code",
   "execution_count": null,
   "metadata": {},
   "outputs": [],
   "source": [
    "# Your MyLinkedList object will be instantiated and called as such:\n",
    "# obj = MyLinkedList()\n",
    "# param_1 = obj.get(index)\n",
    "# obj.addAtHead(val)\n",
    "# obj.addAtTail(val)\n",
    "# obj.addAtIndex(index,val)\n",
    "# obj.deleteAtIndex(index)"
   ]
  },
  {
   "cell_type": "code",
   "execution_count": 60,
   "metadata": {},
   "outputs": [],
   "source": [
    "obj = MyLinkedList()"
   ]
  },
  {
   "cell_type": "code",
   "execution_count": 61,
   "metadata": {},
   "outputs": [
    {
     "data": {
      "text/plain": [
       "<__main__.Node at 0x1f6a02a1f28>"
      ]
     },
     "execution_count": 61,
     "metadata": {},
     "output_type": "execute_result"
    }
   ],
   "source": [
    "obj.addAtHead('1')"
   ]
  },
  {
   "cell_type": "code",
   "execution_count": 62,
   "metadata": {},
   "outputs": [
    {
     "data": {
      "text/plain": [
       "<__main__.Node at 0x1f6a02a1320>"
      ]
     },
     "execution_count": 62,
     "metadata": {},
     "output_type": "execute_result"
    }
   ],
   "source": [
    "obj.addAtHead('2')"
   ]
  },
  {
   "cell_type": "code",
   "execution_count": 63,
   "metadata": {},
   "outputs": [
    {
     "data": {
      "text/plain": [
       "<__main__.Node at 0x1f6a020e8d0>"
      ]
     },
     "execution_count": 63,
     "metadata": {},
     "output_type": "execute_result"
    }
   ],
   "source": [
    "obj.addAtHead('3')"
   ]
  },
  {
   "cell_type": "code",
   "execution_count": 64,
   "metadata": {},
   "outputs": [
    {
     "data": {
      "text/plain": [
       "<__main__.Node at 0x1f6a020ec50>"
      ]
     },
     "execution_count": 64,
     "metadata": {},
     "output_type": "execute_result"
    }
   ],
   "source": [
    "obj.addAtTail('4')"
   ]
  },
  {
   "cell_type": "code",
   "execution_count": 65,
   "metadata": {},
   "outputs": [
    {
     "data": {
      "text/plain": [
       "<__main__.Node at 0x1f6a0215e80>"
      ]
     },
     "execution_count": 65,
     "metadata": {},
     "output_type": "execute_result"
    }
   ],
   "source": [
    "obj.addAtTail('5')"
   ]
  },
  {
   "cell_type": "code",
   "execution_count": 66,
   "metadata": {},
   "outputs": [
    {
     "data": {
      "text/plain": [
       "<__main__.Node at 0x1f6a0215b70>"
      ]
     },
     "execution_count": 66,
     "metadata": {},
     "output_type": "execute_result"
    }
   ],
   "source": [
    "obj.addAtTail('6')"
   ]
  },
  {
   "cell_type": "code",
   "execution_count": 68,
   "metadata": {},
   "outputs": [],
   "source": [
    "param_1 = obj.get(1)\n"
   ]
  },
  {
   "cell_type": "code",
   "execution_count": 69,
   "metadata": {},
   "outputs": [
    {
     "data": {
      "text/plain": [
       "<__main__.Node at 0x1f6a02a1320>"
      ]
     },
     "execution_count": 69,
     "metadata": {},
     "output_type": "execute_result"
    }
   ],
   "source": [
    "param_1"
   ]
  },
  {
   "cell_type": "code",
   "execution_count": 70,
   "metadata": {},
   "outputs": [
    {
     "data": {
      "text/plain": [
       "<__main__.Node at 0x1f6a02a8b38>"
      ]
     },
     "execution_count": 70,
     "metadata": {},
     "output_type": "execute_result"
    }
   ],
   "source": [
    "obj.addAtIndex(2,5)"
   ]
  },
  {
   "cell_type": "code",
   "execution_count": 1,
   "metadata": {},
   "outputs": [
    {
     "ename": "NameError",
     "evalue": "name 'obj' is not defined",
     "output_type": "error",
     "traceback": [
      "\u001b[1;31m---------------------------------------------------------------------------\u001b[0m",
      "\u001b[1;31mNameError\u001b[0m                                 Traceback (most recent call last)",
      "\u001b[1;32m<ipython-input-1-70265ab2adc9>\u001b[0m in \u001b[0;36m<module>\u001b[1;34m\u001b[0m\n\u001b[1;32m----> 1\u001b[1;33m \u001b[0mobj\u001b[0m\u001b[1;33m.\u001b[0m\u001b[0mprintList\u001b[0m\u001b[1;33m(\u001b[0m\u001b[1;36m1\u001b[0m\u001b[1;33m)\u001b[0m\u001b[1;33m\u001b[0m\u001b[1;33m\u001b[0m\u001b[0m\n\u001b[0m",
      "\u001b[1;31mNameError\u001b[0m: name 'obj' is not defined"
     ]
    }
   ],
   "source": [
    "obj.printList(1)"
   ]
  },
  {
   "cell_type": "code",
   "execution_count": null,
   "metadata": {},
   "outputs": [],
   "source": []
  }
 ],
 "metadata": {
  "kernelspec": {
   "display_name": "Python 3",
   "language": "python",
   "name": "python3"
  },
  "language_info": {
   "codemirror_mode": {
    "name": "ipython",
    "version": 3
   },
   "file_extension": ".py",
   "mimetype": "text/x-python",
   "name": "python",
   "nbconvert_exporter": "python",
   "pygments_lexer": "ipython3",
   "version": "3.7.3"
  }
 },
 "nbformat": 4,
 "nbformat_minor": 2
}
