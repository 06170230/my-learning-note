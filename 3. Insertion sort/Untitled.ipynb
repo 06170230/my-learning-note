{
 "cells": [
  {
   "cell_type": "code",
   "execution_count": 2,
   "metadata": {},
   "outputs": [],
   "source": [
    "import pandas as pd\n",
    "import numpy as np"
   ]
  },
  {
   "cell_type": "code",
   "execution_count": 4,
   "metadata": {},
   "outputs": [],
   "source": [
    "data_num = pd.read_excel(\"D:/User/downloads/2018_num.xlsx\")"
   ]
  },
  {
   "cell_type": "code",
   "execution_count": 33,
   "metadata": {},
   "outputs": [],
   "source": [
    "mask1 = (data_num['品名'] == \"蘆筍\")\n",
    "mask2 = (data_num['品名'] == \"蘋果\")\n",
    "mask3 = (data_num['品名'] == \"\")\n",
    "mask4 = (data_num['品名'] == \"蘋果\")\n",
    "mask5 = (data_num['品名'] == \"蘋果\")\n",
    "mask6 = (data_num['品名'] == \"蘋果\")\n",
    "mask7 = (data_num['品名'] == \"蘋果\")\n",
    "mask8 = (data_num['品名'] == \"蘋果\")\n",
    "mask9 = (data_num['品名'] == \"蘋果\")\n",
    "mask10 = (data_num['品名'] == \"蘋果\")\n",
    "mask11 = (data_num['品名'] == \"蘋果\")\n",
    "mask12 = (data_num['品名'] == \"蘋果\")\n",
    "mask13 = (data_num['品名'] == \"蘋果\")\n",
    "mask14 = (data_num['品名'] == \"蘋果\")\n",
    "mask15 = (data_num['品名'] == \"蘋果\")\n",
    "mask16 = (data_num['品名'] == \"蘋果\")\n",
    "mask17 = (data_num['品名'] == \"蘋果\")\n",
    "mask18 = (data_num['品名'] == \"蘋果\")\n",
    "mask19 = (data_num['品名'] == \"蘋果\")\n",
    "mask20 = (data_num['品名'] == \"蘋果\")\n",
    "mask22 = (data_num['品名'] == \"蘋果\")\n",
    "mask21 = (data_num['品名'] == \"蘋果\")"
   ]
  },
  {
   "cell_type": "code",
   "execution_count": 30,
   "metadata": {},
   "outputs": [],
   "source": [
    "df = data_num[(mask1 | mask2)]"
   ]
  },
  {
   "cell_type": "code",
   "execution_count": 31,
   "metadata": {},
   "outputs": [
    {
     "data": {
      "text/html": [
       "<div>\n",
       "<style scoped>\n",
       "    .dataframe tbody tr th:only-of-type {\n",
       "        vertical-align: middle;\n",
       "    }\n",
       "\n",
       "    .dataframe tbody tr th {\n",
       "        vertical-align: top;\n",
       "    }\n",
       "\n",
       "    .dataframe thead th {\n",
       "        text-align: right;\n",
       "    }\n",
       "</style>\n",
       "<table border=\"1\" class=\"dataframe\">\n",
       "  <thead>\n",
       "    <tr style=\"text-align: right;\">\n",
       "      <th></th>\n",
       "      <th>銷售日期</th>\n",
       "      <th>年份</th>\n",
       "      <th>月份</th>\n",
       "      <th>年週別</th>\n",
       "      <th>月週別</th>\n",
       "      <th>星期</th>\n",
       "      <th>品號分類B代號</th>\n",
       "      <th>CLASSB</th>\n",
       "      <th>品號</th>\n",
       "      <th>品名</th>\n",
       "      <th>規格</th>\n",
       "      <th>單位</th>\n",
       "      <th>銷售未稅淨額</th>\n",
       "      <th>銷售數量</th>\n",
       "      <th>贈品量</th>\n",
       "      <th>交易代號1</th>\n",
       "      <th>交易簡稱1</th>\n",
       "      <th>客戶代號</th>\n",
       "      <th>地址</th>\n",
       "    </tr>\n",
       "  </thead>\n",
       "  <tbody>\n",
       "    <tr>\n",
       "      <th>0</th>\n",
       "      <td>20180102</td>\n",
       "      <td>2018</td>\n",
       "      <td>1</td>\n",
       "      <td>1</td>\n",
       "      <td>1</td>\n",
       "      <td>二</td>\n",
       "      <td>22</td>\n",
       "      <td>餐飲-咖啡區</td>\n",
       "      <td>CTDH009</td>\n",
       "      <td>蘆筍</td>\n",
       "      <td>NaN</td>\n",
       "      <td>包</td>\n",
       "      <td>0</td>\n",
       "      <td>3.0</td>\n",
       "      <td>0.0</td>\n",
       "      <td>-------</td>\n",
       "      <td>Coupon</td>\n",
       "      <td>NaN</td>\n",
       "      <td>NaN</td>\n",
       "    </tr>\n",
       "    <tr>\n",
       "      <th>1</th>\n",
       "      <td>20180102</td>\n",
       "      <td>2018</td>\n",
       "      <td>1</td>\n",
       "      <td>1</td>\n",
       "      <td>1</td>\n",
       "      <td>二</td>\n",
       "      <td>22</td>\n",
       "      <td>餐飲-咖啡區</td>\n",
       "      <td>CTBP001</td>\n",
       "      <td>蘆筍</td>\n",
       "      <td>NaN</td>\n",
       "      <td>包</td>\n",
       "      <td>81</td>\n",
       "      <td>1.0</td>\n",
       "      <td>0.0</td>\n",
       "      <td>A-ZZ-10</td>\n",
       "      <td>輕食</td>\n",
       "      <td>NaN</td>\n",
       "      <td>NaN</td>\n",
       "    </tr>\n",
       "    <tr>\n",
       "      <th>2</th>\n",
       "      <td>20180102</td>\n",
       "      <td>2018</td>\n",
       "      <td>1</td>\n",
       "      <td>1</td>\n",
       "      <td>1</td>\n",
       "      <td>二</td>\n",
       "      <td>22</td>\n",
       "      <td>餐飲-咖啡區</td>\n",
       "      <td>CTDH006</td>\n",
       "      <td>蘆筍</td>\n",
       "      <td>NaN</td>\n",
       "      <td>包</td>\n",
       "      <td>154</td>\n",
       "      <td>2.0</td>\n",
       "      <td>0.0</td>\n",
       "      <td>A-ZZ-10</td>\n",
       "      <td>輕食</td>\n",
       "      <td>NaN</td>\n",
       "      <td>NaN</td>\n",
       "    </tr>\n",
       "    <tr>\n",
       "      <th>3</th>\n",
       "      <td>20180102</td>\n",
       "      <td>2018</td>\n",
       "      <td>1</td>\n",
       "      <td>1</td>\n",
       "      <td>1</td>\n",
       "      <td>二</td>\n",
       "      <td>1</td>\n",
       "      <td>自產蔬菜</td>\n",
       "      <td>CBA101001A120</td>\n",
       "      <td>蘆筍</td>\n",
       "      <td>翠綠捲葉羽衣甘藍 / 120g</td>\n",
       "      <td>盒</td>\n",
       "      <td>95</td>\n",
       "      <td>1.0</td>\n",
       "      <td>0.0</td>\n",
       "      <td>CH01</td>\n",
       "      <td>自營販售</td>\n",
       "      <td>E00000001</td>\n",
       "      <td>NaN</td>\n",
       "    </tr>\n",
       "    <tr>\n",
       "      <th>4</th>\n",
       "      <td>20180102</td>\n",
       "      <td>2018</td>\n",
       "      <td>1</td>\n",
       "      <td>1</td>\n",
       "      <td>1</td>\n",
       "      <td>二</td>\n",
       "      <td>1</td>\n",
       "      <td>自產蔬菜</td>\n",
       "      <td>CBA100301B180</td>\n",
       "      <td>蘆筍</td>\n",
       "      <td>京都水菜 / 180g</td>\n",
       "      <td>包</td>\n",
       "      <td>144</td>\n",
       "      <td>3.0</td>\n",
       "      <td>0.0</td>\n",
       "      <td>CH04</td>\n",
       "      <td>餐廳飯店</td>\n",
       "      <td>B00000102</td>\n",
       "      <td>104臺北市中山區長</td>\n",
       "    </tr>\n",
       "  </tbody>\n",
       "</table>\n",
       "</div>"
      ],
      "text/plain": [
       "       銷售日期    年份  月份  年週別  月週別 星期 品號分類B代號  CLASSB             品號  品名  \\\n",
       "0  20180102  2018   1    1    1  二      22  餐飲-咖啡區        CTDH009  蘆筍   \n",
       "1  20180102  2018   1    1    1  二      22  餐飲-咖啡區        CTBP001  蘆筍   \n",
       "2  20180102  2018   1    1    1  二      22  餐飲-咖啡區        CTDH006  蘆筍   \n",
       "3  20180102  2018   1    1    1  二       1    自產蔬菜  CBA101001A120  蘆筍   \n",
       "4  20180102  2018   1    1    1  二       1    自產蔬菜  CBA100301B180  蘆筍   \n",
       "\n",
       "                規格 單位  銷售未稅淨額  銷售數量  贈品量        交易代號1   交易簡稱1       客戶代號  \\\n",
       "0              NaN  包       0   3.0  0.0      -------  Coupon        NaN   \n",
       "1              NaN  包      81   1.0  0.0  A-ZZ-10          輕食        NaN   \n",
       "2              NaN  包     154   2.0  0.0  A-ZZ-10          輕食        NaN   \n",
       "3  翠綠捲葉羽衣甘藍 / 120g  盒      95   1.0  0.0       CH01      自營販售  E00000001   \n",
       "4      京都水菜 / 180g  包     144   3.0  0.0       CH04      餐廳飯店  B00000102   \n",
       "\n",
       "           地址  \n",
       "0         NaN  \n",
       "1         NaN  \n",
       "2         NaN  \n",
       "3         NaN  \n",
       "4  104臺北市中山區長  "
      ]
     },
     "execution_count": 31,
     "metadata": {},
     "output_type": "execute_result"
    }
   ],
   "source": [
    "df.head()"
   ]
  },
  {
   "cell_type": "code",
   "execution_count": 1,
   "metadata": {},
   "outputs": [],
   "source": [
    "'''import module'''\n",
    "\n",
    "# basic tool\n",
    "import os\n",
    "from functools import reduce\n",
    "\n",
    "# data process and visualization\n",
    "import numpy as np\n",
    "import pandas as pd\n",
    "import matplotlib.pyplot as plt\n",
    "import seaborn as sns\n",
    "\n",
    "# style and text\n",
    "from matplotlib.font_manager import FontProperties\n",
    "\n",
    "%matplotlib inline"
   ]
  },
  {
   "cell_type": "code",
   "execution_count": 3,
   "metadata": {},
   "outputs": [],
   "source": [
    "test = pd.read_csv(\"D:/User/downloads/dataset/test/test.csv\", encoding=\"Big5\", low_memory=False)"
   ]
  },
  {
   "cell_type": "code",
   "execution_count": 5,
   "metadata": {},
   "outputs": [
    {
     "data": {
      "text/plain": [
       "<matplotlib.axes._subplots.AxesSubplot at 0x1ffc1de3be0>"
      ]
     },
     "execution_count": 5,
     "metadata": {},
     "output_type": "execute_result"
    },
    {
     "data": {
      "image/png": "[encoded data removed]",
      "text/plain": [
       "<Figure size 1080x360 with 1 Axes>"
      ]
     },
     "metadata": {
      "needs_background": "light"
     },
     "output_type": "display_data"
    }
   ],
   "source": [
    "# Nan figure(red:Nan) of train\n",
    "plt.figure(figsize=[15, 5])\n",
    "plt.title(\"Missing values of Features\", fontdict={\"fontsize\":\"xx-large\"})\n",
    "sns.heatmap(test.isnull(), yticklabels=False, cbar=False, cmap=\"coolwarm\")"
   ]
  },
  {
   "cell_type": "code",
   "execution_count": 5,
   "metadata": {},
   "outputs": [],
   "source": [
    "str1 = 5"
   ]
  },
  {
   "cell_type": "code",
   "execution_count": 6,
   "metadata": {},
   "outputs": [],
   "source": [
    "name = str1"
   ]
  },
  {
   "cell_type": "code",
   "execution_count": 7,
   "metadata": {},
   "outputs": [
    {
     "data": {
      "text/plain": [
       "5"
      ]
     },
     "execution_count": 7,
     "metadata": {},
     "output_type": "execute_result"
    }
   ],
   "source": [
    "name"
   ]
  },
  {
   "cell_type": "code",
   "execution_count": 9,
   "metadata": {},
   "outputs": [],
   "source": [
    "name = name + 5"
   ]
  },
  {
   "cell_type": "code",
   "execution_count": 10,
   "metadata": {},
   "outputs": [
    {
     "data": {
      "text/plain": [
       "10"
      ]
     },
     "execution_count": 10,
     "metadata": {},
     "output_type": "execute_result"
    }
   ],
   "source": [
    "name"
   ]
  },
  {
   "cell_type": "code",
   "execution_count": 12,
   "metadata": {},
   "outputs": [
    {
     "data": {
      "text/plain": [
       "5"
      ]
     },
     "execution_count": 12,
     "metadata": {},
     "output_type": "execute_result"
    }
   ],
   "source": [
    "str1"
   ]
  },
  {
   "cell_type": "code",
   "execution_count": null,
   "metadata": {},
   "outputs": [],
   "source": []
  }
 ],
 "metadata": {
  "kernelspec": {
   "display_name": "Python 3",
   "language": "python",
   "name": "python3"
  },
  "language_info": {
   "codemirror_mode": {
    "name": "ipython",
    "version": 3
   },
   "file_extension": ".py",
   "mimetype": "text/x-python",
   "name": "python",
   "nbconvert_exporter": "python",
   "pygments_lexer": "ipython3",
   "version": "3.7.3"
  }
 },
 "nbformat": 4,
 "nbformat_minor": 2
}
